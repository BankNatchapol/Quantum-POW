{
  "nbformat": 4,
  "nbformat_minor": 0,
  "metadata": {
    "colab": {
      "name": "QPOW.ipynb",
      "provenance": [],
      "authorship_tag": "ABX9TyM0nn10bSHfpxFVF+rdN+KE",
      "include_colab_link": true
    },
    "kernelspec": {
      "name": "python3",
      "display_name": "Python 3"
    },
    "language_info": {
      "name": "python"
    }
  },
  "cells": [
    {
      "cell_type": "markdown",
      "metadata": {
        "id": "view-in-github",
        "colab_type": "text"
      },
      "source": [
        "<a href=\"https://colab.research.google.com/github/BankNatchapol/Quantum-POW/blob/main/QPOW.ipynb\" target=\"_parent\"><img src=\"https://colab.research.google.com/assets/colab-badge.svg\" alt=\"Open In Colab\"/></a>"
      ]
    },
    {
      "cell_type": "code",
      "metadata": {
        "id": "i8DSlhKxr3Ug"
      },
      "source": [
        "!pip install qiskit\n",
        "!pip install pylatexenc"
      ],
      "execution_count": null,
      "outputs": []
    },
    {
      "cell_type": "markdown",
      "metadata": {
        "id": "lKVMv7jrebqu"
      },
      "source": [
        "# **Blockchain Classical Proof of Work**\n",
        "In the classical Blockchain, Proof of Work protocol use to confirm transactions and produce new blocks to the chain. \n",
        "<img src=\"https://www.ledger.com/wp-content/uploads/2019/10/What-is-proof-of-work-1.jpg\">\n",
        "## How it work?\n",
        "First, we have these blocks.\n",
        "<img src=\"http://spheregen.com/wp-content/uploads/2019/04/blockchain.png\"><br>\n",
        "Each block contains the data of previous block hash and their own hash. <br>\n",
        "with<br><br>\n",
        "$$ Target = SHA256(SHA256(Previous Hash || nonce))$$<br>\n",
        "To create new block you need to randomly find number(nonce) that makes this equation true.<br><br>\n",
        "$$ Target > SHA256(SHA256(Previous Hash || nonce)) $$<br>\n",
        "When you found the nonce, you can create new block and get reward."
      ]
    },
    {
      "cell_type": "code",
      "metadata": {
        "id": "w2CuJFYCaK1I"
      },
      "source": [
        "import hashlib\n",
        "\n",
        "# define block component\n",
        "previous_hash=\"98cd56fde9583ca4acc490d8ce3f8f0f6bbaf9e2f956d60c4756414a575741ef\" \n",
        "real_nonce = \"100\""
      ],
      "execution_count": null,
      "outputs": []
    },
    {
      "cell_type": "markdown",
      "metadata": {
        "id": "q-QMfW3hRIh7"
      },
      "source": [
        "Difficulty use to reduce hash rate."
      ]
    },
    {
      "cell_type": "code",
      "metadata": {
        "id": "2j2V_n48RBpm"
      },
      "source": [
        "difficulty = 3"
      ],
      "execution_count": null,
      "outputs": []
    },
    {
      "cell_type": "markdown",
      "metadata": {
        "id": "3WYpRoCYRepE"
      },
      "source": [
        "Combine block components together."
      ]
    },
    {
      "cell_type": "code",
      "metadata": {
        "colab": {
          "base_uri": "https://localhost:8080/"
        },
        "id": "tXItGqMKRAOK",
        "outputId": "cf6c2141-ade3-436a-bf2b-fe9d6fcaf830"
      },
      "source": [
        "encoded = (previous_hash + real_nonce).encode()\n",
        "first_encoded = hashlib.sha256(encoded)\n",
        "second_encoded =  hashlib.sha256(first_encoded.hexdigest().encode())\n",
        "target = second_encoded.hexdigest()\n",
        "print(target)"
      ],
      "execution_count": null,
      "outputs": [
        {
          "output_type": "stream",
          "text": [
            "f08ab4c9bc26530f664f38d2d03c1ffbf0247d03d9524d1f0973954fa38e67aa\n"
          ],
          "name": "stdout"
        }
      ]
    },
    {
      "cell_type": "code",
      "metadata": {
        "colab": {
          "base_uri": "https://localhost:8080/"
        },
        "id": "MXnV4rSQRD2Y",
        "outputId": "d8e3cbbb-f324-4369-d002-256c47593386"
      },
      "source": [
        "l_target = list(target)\n",
        "l_target[:difficulty] = \"0\"*difficulty\n",
        "d_target = \"\".join(l_target)\n",
        "print(d_target)"
      ],
      "execution_count": null,
      "outputs": [
        {
          "output_type": "stream",
          "text": [
            "000ab4c9bc26530f664f38d2d03c1ffbf0247d03d9524d1f0973954fa38e67aa\n"
          ],
          "name": "stdout"
        }
      ]
    },
    {
      "cell_type": "markdown",
      "metadata": {
        "id": "6oV2h3gRR7H4"
      },
      "source": [
        "Mining algorithm"
      ]
    },
    {
      "cell_type": "code",
      "metadata": {
        "colab": {
          "base_uri": "https://localhost:8080/"
        },
        "id": "jM_yHFd3jd9Z",
        "outputId": "426f6277-44e2-43ab-ede7-992543d11f08"
      },
      "source": [
        "random_nonce = 0 # generate random nonce\n",
        "\n",
        "while True:\n",
        "\n",
        "  # use previous block hash and random nonce to estimate target\n",
        "  encoded = (previous_hash + str(random_nonce)).encode()\n",
        "  first_encoded = hashlib.sha256(encoded)\n",
        "  second_encoded =  hashlib.sha256(first_encoded.hexdigest().encode())\n",
        "\n",
        "  # check if our solution is less than target\n",
        "  if second_encoded.hexdigest() < d_target:\n",
        "    result = {\"random_nonce\":random_nonce, \"solution\":second_encoded.hexdigest()}\n",
        "    print(\"You receive 1 Bitcoin!!\\n\")\n",
        "    break\n",
        "\n",
        "  random_nonce += 1 \n",
        "\n",
        "print(result)"
      ],
      "execution_count": null,
      "outputs": [
        {
          "output_type": "stream",
          "text": [
            "You receive 1 Bitcoin!!\n",
            "\n",
            "{'random_nonce': 8409, 'solution': '00068b834ab331a2e3e0f33bd7c4b26f08374eafffc6dae0f558636972fd85cc'}\n"
          ],
          "name": "stdout"
        }
      ]
    },
    {
      "cell_type": "markdown",
      "metadata": {
        "id": "TpQ4qY3so4_C"
      },
      "source": [
        "# **Blockchain Quantum Proof of Work**\n",
        "In my Quantum Proof of Work protocol, i will map nonce into sequence of quantum gate and hash into binary number.\n",
        "<br>\n",
        "Algorithm:\n",
        "<img src=\"https://github.com/BankNatchapol/Quantum-POW/blob/main/static/QPOW.png?raw=true\">\n"
      ]
    },
    {
      "cell_type": "code",
      "metadata": {
        "id": "GPLxOpmgkyN8"
      },
      "source": [
        "import numpy as np\n",
        "from qiskit import *\n",
        "from itertools import permutations"
      ],
      "execution_count": null,
      "outputs": []
    },
    {
      "cell_type": "markdown",
      "metadata": {
        "id": "HQfECjgltfx_"
      },
      "source": [
        "**Define initial parameter.** <br>\n",
        "num_qubits: size of hash<br>\n",
        "valid_gate: available quantum gate <br>\n",
        "previous_hash: initial hash value"
      ]
    },
    {
      "cell_type": "code",
      "metadata": {
        "id": "uapaxZptvEfw"
      },
      "source": [
        "num_qubits = 4\n",
        "valid_gate = [\"X\", \"Y\", \"Z\", \"H\"]\n",
        "\n",
        "previous_hash = \"XHZH\""
      ],
      "execution_count": null,
      "outputs": []
    },
    {
      "cell_type": "code",
      "metadata": {
        "id": "hxtEG3Qhn4ap"
      },
      "source": [
        "def apply_qgate(quantum_circuit, gate, qubit):\n",
        "  \"\"\"\n",
        "    function for map hash value into quantum gate.\n",
        "    Parameters:\n",
        "      quantum_circuit: Qiskit QuantumCircuit object\n",
        "      gate: single hash value\n",
        "      qubit: qubit No.  \n",
        "    \n",
        "    Return: \n",
        "      -\n",
        "  \"\"\"\n",
        "\n",
        "  if gate == \"X\":\n",
        "    quantum_circuit.x(qubit)\n",
        "  elif gate == \"Y\":\n",
        "    quantum_circuit.y(qubit)\n",
        "  elif gate == \"Z\":\n",
        "    quantum_circuit.z(qubit)\n",
        "  elif gate == \"H\":\n",
        "    quantum_circuit.h(qubit)\n",
        "  else:\n",
        "    assert 0, f\"{gate} gate is not recognized.\""
      ],
      "execution_count": null,
      "outputs": []
    },
    {
      "cell_type": "markdown",
      "metadata": {
        "id": "NJwl31p7vVVj"
      },
      "source": [
        "Apply quantum gate from hash value into quantum circuit."
      ]
    },
    {
      "cell_type": "code",
      "metadata": {
        "colab": {
          "base_uri": "https://localhost:8080/",
          "height": 231
        },
        "id": "2Y1rUj_Nw5TO",
        "outputId": "1a4cdea3-886b-458e-ef3f-d5fc27683624"
      },
      "source": [
        "target_circuit = QuantumCircuit(num_qubits)\n",
        "\n",
        "for i in range(num_qubits):\n",
        "  apply_qgate(target_circuit, previous_hash[-(i+1)], i)\n",
        "\n",
        "target_circuit.barrier()\n",
        "target_circuit.draw(\"mpl\")"
      ],
      "execution_count": null,
      "outputs": [
        {
          "output_type": "execute_result",
          "data": {
            "image/png": "[encoded data removed]",
            "text/plain": [
              "<Figure size 206.997x264.88 with 1 Axes>"
            ]
          },
          "metadata": {
            "tags": []
          },
          "execution_count": 330
        }
      ]
    },
    {
      "cell_type": "markdown",
      "metadata": {
        "id": "X1geXVE5viVJ"
      },
      "source": [
        "Define our own random nonce."
      ]
    },
    {
      "cell_type": "code",
      "metadata": {
        "colab": {
          "base_uri": "https://localhost:8080/",
          "height": 231
        },
        "id": "ZM0lt6dryrNP",
        "outputId": "39714db6-b4bb-481d-d08d-220edee87c89"
      },
      "source": [
        "random_nonce = \"ZXYH\"\n",
        "nonce_circuit = QuantumCircuit(num_qubits)\n",
        "\n",
        "for i in range(num_qubits):\n",
        "  apply_qgate(nonce_circuit, random_nonce[-(i+1)], i)\n",
        "\n",
        "nonce_circuit.draw(\"mpl\")"
      ],
      "execution_count": null,
      "outputs": [
        {
          "output_type": "execute_result",
          "data": {
            "image/png": "[encoded data removed]",
            "text/plain": [
              "<Figure size 146.797x264.88 with 1 Axes>"
            ]
          },
          "metadata": {
            "tags": []
          },
          "execution_count": 331
        }
      ]
    },
    {
      "cell_type": "markdown",
      "metadata": {
        "id": "HX2Nj3_LvrG_"
      },
      "source": [
        "Combined target circuit with nonce circuit."
      ]
    },
    {
      "cell_type": "code",
      "metadata": {
        "colab": {
          "base_uri": "https://localhost:8080/",
          "height": 276
        },
        "id": "zLzlAoPSy-Q7",
        "outputId": "17f57d60-5d82-481b-fe06-963762774636"
      },
      "source": [
        "answer_circuit = (target_circuit + nonce_circuit)\n",
        "answer_circuit.measure_all()\n",
        "answer_circuit.draw(\"mpl\")"
      ],
      "execution_count": null,
      "outputs": [
        {
          "output_type": "execute_result",
          "data": {
            "image/png": "[encoded data removed]",
            "text/plain": [
              "<Figure size 598.479x325.08 with 1 Axes>"
            ]
          },
          "metadata": {
            "tags": []
          },
          "execution_count": 332
        }
      ]
    },
    {
      "cell_type": "code",
      "metadata": {
        "colab": {
          "base_uri": "https://localhost:8080/"
        },
        "id": "0iyHds7FrjXu",
        "outputId": "27026690-016b-4ba4-a84b-4bc4c425510a"
      },
      "source": [
        "backend = Aer.get_backend('qasm_simulator')\n",
        "\n",
        "job = execute(answer_circuit, backend)\n",
        "\n",
        "result = job.result()\n",
        "\n",
        "outputstate = result.get_counts()\n",
        "print(outputstate)\n"
      ],
      "execution_count": null,
      "outputs": [
        {
          "output_type": "stream",
          "text": [
            "{'1110': 495, '1010': 529}\n"
          ],
          "name": "stdout"
        }
      ]
    },
    {
      "cell_type": "code",
      "metadata": {
        "colab": {
          "base_uri": "https://localhost:8080/"
        },
        "id": "zvrCddRk-svT",
        "outputId": "59340d78-6872-4fce-d3f1-59f235d07ad7"
      },
      "source": [
        "hash_circuit = QuantumCircuit(num_qubits)\n",
        "\n",
        "hash_circuit.measure_all()\n",
        "hash_circuit.draw(\"mpl\")\n",
        "\n",
        "backend = Aer.get_backend('qasm_simulator')\n",
        "\n",
        "job = execute((target_circuit+hash_circuit), backend)\n",
        "\n",
        "result = job.result()\n",
        "\n",
        "outputstate = result.get_counts()\n",
        "print(outputstate)"
      ],
      "execution_count": null,
      "outputs": [
        {
          "output_type": "stream",
          "text": [
            "{'1000': 239, '1001': 255, '1100': 263, '1101': 267}\n"
          ],
          "name": "stdout"
        }
      ]
    },
    {
      "cell_type": "code",
      "metadata": {
        "colab": {
          "base_uri": "https://localhost:8080/"
        },
        "id": "ggC2NjO3_VCT",
        "outputId": "5f9473a3-b5db-4599-da7f-531fdaf96487"
      },
      "source": [
        "def cal_hash(outputstate):\n",
        "  target_hash = 0\n",
        "  for state in outputstate:\n",
        "    target_hash += int(state,2) \n",
        "\n",
        "  target_hash_bin = bin(target_hash)\n",
        "  if len(target_hash_bin) > num_qubits +2:\n",
        "    target_hash_bin = \"0b\" + target_hash_bin[-num_qubits:]\n",
        "  return target_hash_bin\n",
        "\n",
        "target_hash_bin = cal_hash(outputstate)\n",
        "print(\"Target Hash :\", target_hash_bin)"
      ],
      "execution_count": null,
      "outputs": [
        {
          "output_type": "stream",
          "text": [
            "Target Hash : 0b1010\n"
          ],
          "name": "stdout"
        }
      ]
    },
    {
      "cell_type": "code",
      "metadata": {
        "colab": {
          "base_uri": "https://localhost:8080/",
          "height": 35
        },
        "id": "vswwXJ1F_vUp",
        "outputId": "1f4e4187-dd08-45b1-f8e8-05cfac5c3e62"
      },
      "source": [
        "difficulty = 2\n",
        "l_target = list(target_hash_bin)\n",
        "l_target[2:difficulty+2] = \"0\"*difficulty\n",
        "target_hash_bin = bin(int(\"\".join(l_target), 2))\n",
        "target_hash_bin"
      ],
      "execution_count": null,
      "outputs": [
        {
          "output_type": "execute_result",
          "data": {
            "application/vnd.google.colaboratory.intrinsic+json": {
              "type": "string"
            },
            "text/plain": [
              "'0b10'"
            ]
          },
          "metadata": {
            "tags": []
          },
          "execution_count": 336
        }
      ]
    },
    {
      "cell_type": "markdown",
      "metadata": {
        "id": "xly_9tCiymPZ"
      },
      "source": [
        "Runing mining algorithm."
      ]
    },
    {
      "cell_type": "code",
      "metadata": {
        "colab": {
          "base_uri": "https://localhost:8080/"
        },
        "id": "LOsRW-kozvhz",
        "outputId": "73c02eea-d517-4aa0-85fb-4839cf498e06"
      },
      "source": [
        "list_combinations = \"\"\n",
        "for gate in valid_gate:\n",
        "  list_combinations += gate*num_qubits\n",
        "all_answer_nonce = permutations(list_combinations, num_qubits)\n",
        "\n",
        "\n",
        "for t, answer_nonce in enumerate(all_answer_nonce):\n",
        "  nonce_circuit = QuantumCircuit(num_qubits)\n",
        "  for i in range(num_qubits):\n",
        "    apply_qgate(nonce_circuit, answer_nonce[-(i+1)], i)\n",
        "  backend = Aer.get_backend('qasm_simulator')\n",
        "\n",
        "  answer_circuit = (target_circuit + nonce_circuit)\n",
        "  answer_circuit.measure_all()\n",
        "\n",
        "  job = execute(answer_circuit, backend)\n",
        "\n",
        "  result = job.result()\n",
        "  if t%10 == 0:\n",
        "    print(\"Iter :\", t)\n",
        "    \n",
        "  outputstate = result.get_counts()\n",
        "  if bin(int(cal_hash(outputstate),2)) < target_hash_bin:\n",
        "    print(\"You reveive 1 QuantumCoin!!\")\n",
        "    break\n",
        "      \n"
      ],
      "execution_count": null,
      "outputs": [
        {
          "output_type": "stream",
          "text": [
            "Iter : 0\n",
            "Iter : 10\n",
            "Iter : 20\n",
            "Iter : 30\n",
            "Iter : 40\n",
            "Iter : 50\n",
            "Iter : 60\n",
            "Iter : 70\n",
            "Iter : 80\n",
            "Iter : 90\n",
            "Iter : 100\n",
            "Iter : 110\n",
            "Iter : 120\n",
            "Iter : 130\n",
            "Iter : 140\n",
            "Iter : 150\n",
            "Iter : 160\n",
            "Iter : 170\n",
            "Iter : 180\n",
            "Iter : 190\n",
            "Iter : 200\n",
            "Iter : 210\n",
            "Iter : 220\n",
            "Iter : 230\n",
            "Iter : 240\n",
            "Iter : 250\n",
            "Iter : 260\n",
            "Iter : 270\n",
            "Iter : 280\n",
            "Iter : 290\n",
            "Iter : 300\n",
            "Iter : 310\n",
            "Iter : 320\n",
            "Iter : 330\n",
            "Iter : 340\n",
            "Iter : 350\n",
            "Iter : 360\n",
            "Iter : 370\n",
            "Iter : 380\n",
            "Iter : 390\n",
            "Iter : 400\n",
            "Iter : 410\n",
            "Iter : 420\n",
            "Iter : 430\n",
            "Iter : 440\n",
            "Iter : 450\n",
            "Iter : 460\n",
            "Iter : 470\n",
            "Iter : 480\n",
            "Iter : 490\n",
            "Iter : 500\n",
            "Iter : 510\n",
            "Iter : 520\n",
            "Iter : 530\n",
            "Iter : 540\n",
            "Iter : 550\n",
            "Iter : 560\n",
            "Iter : 570\n",
            "Iter : 580\n",
            "Iter : 590\n",
            "Iter : 600\n",
            "Iter : 610\n",
            "Iter : 620\n",
            "Iter : 630\n",
            "Iter : 640\n",
            "Iter : 650\n",
            "Iter : 660\n",
            "Iter : 670\n",
            "Iter : 680\n",
            "Iter : 690\n",
            "Iter : 700\n",
            "Iter : 710\n",
            "Iter : 720\n",
            "Iter : 730\n",
            "Iter : 740\n",
            "Iter : 750\n",
            "Iter : 760\n",
            "Iter : 770\n",
            "Iter : 780\n",
            "Iter : 790\n",
            "Iter : 800\n",
            "Iter : 810\n",
            "Iter : 820\n",
            "Iter : 830\n",
            "Iter : 840\n",
            "Iter : 850\n",
            "Iter : 860\n",
            "Iter : 870\n",
            "Iter : 880\n",
            "Iter : 890\n",
            "Iter : 900\n",
            "Iter : 910\n",
            "Iter : 920\n",
            "Iter : 930\n",
            "Iter : 940\n",
            "Iter : 950\n",
            "Iter : 960\n",
            "Iter : 970\n",
            "Iter : 980\n",
            "Iter : 990\n",
            "Iter : 1000\n",
            "Iter : 1010\n",
            "Iter : 1020\n",
            "Iter : 1030\n",
            "Iter : 1040\n",
            "Iter : 1050\n",
            "Iter : 1060\n",
            "Iter : 1070\n",
            "Iter : 1080\n",
            "Iter : 1090\n",
            "Iter : 1100\n",
            "Iter : 1110\n",
            "Iter : 1120\n",
            "Iter : 1130\n",
            "Iter : 1140\n",
            "Iter : 1150\n",
            "Iter : 1160\n",
            "Iter : 1170\n",
            "Iter : 1180\n",
            "Iter : 1190\n",
            "Iter : 1200\n",
            "Iter : 1210\n",
            "Iter : 1220\n",
            "Iter : 1230\n",
            "Iter : 1240\n",
            "Iter : 1250\n",
            "Iter : 1260\n",
            "Iter : 1270\n",
            "Iter : 1280\n",
            "Iter : 1290\n",
            "Iter : 1300\n",
            "Iter : 1310\n",
            "Iter : 1320\n",
            "Iter : 1330\n",
            "Iter : 1340\n",
            "Iter : 1350\n",
            "Iter : 1360\n",
            "Iter : 1370\n",
            "Iter : 1380\n",
            "Iter : 1390\n",
            "Iter : 1400\n",
            "Iter : 1410\n",
            "Iter : 1420\n",
            "Iter : 1430\n",
            "Iter : 1440\n",
            "Iter : 1450\n",
            "Iter : 1460\n",
            "Iter : 1470\n",
            "Iter : 1480\n",
            "Iter : 1490\n",
            "Iter : 1500\n",
            "Iter : 1510\n",
            "Iter : 1520\n",
            "Iter : 1530\n",
            "Iter : 1540\n",
            "Iter : 1550\n",
            "Iter : 1560\n",
            "Iter : 1570\n",
            "Iter : 1580\n",
            "Iter : 1590\n",
            "Iter : 1600\n",
            "Iter : 1610\n",
            "Iter : 1620\n",
            "Iter : 1630\n",
            "Iter : 1640\n",
            "Iter : 1650\n",
            "Iter : 1660\n",
            "Iter : 1670\n",
            "Iter : 1680\n",
            "Iter : 1690\n",
            "Iter : 1700\n",
            "Iter : 1710\n",
            "Iter : 1720\n",
            "Iter : 1730\n",
            "Iter : 1740\n",
            "Iter : 1750\n",
            "Iter : 1760\n",
            "Iter : 1770\n",
            "Iter : 1780\n",
            "Iter : 1790\n",
            "Iter : 1800\n",
            "Iter : 1810\n",
            "Iter : 1820\n",
            "Iter : 1830\n",
            "Iter : 1840\n",
            "Iter : 1850\n",
            "Iter : 1860\n",
            "Iter : 1870\n",
            "Iter : 1880\n",
            "Iter : 1890\n",
            "Iter : 1900\n",
            "Iter : 1910\n",
            "Iter : 1920\n",
            "Iter : 1930\n",
            "Iter : 1940\n",
            "Iter : 1950\n",
            "Iter : 1960\n",
            "Iter : 1970\n",
            "Iter : 1980\n",
            "Iter : 1990\n",
            "Iter : 2000\n",
            "Iter : 2010\n",
            "Iter : 2020\n",
            "Iter : 2030\n",
            "Iter : 2040\n",
            "Iter : 2050\n",
            "Iter : 2060\n",
            "Iter : 2070\n",
            "Iter : 2080\n",
            "Iter : 2090\n",
            "You reveive 1 QuantumCoin!!\n"
          ],
          "name": "stdout"
        }
      ]
    },
    {
      "cell_type": "code",
      "metadata": {
        "colab": {
          "base_uri": "https://localhost:8080/",
          "height": 276
        },
        "id": "MVZmQQYy3RpJ",
        "outputId": "c9dd1689-c46f-4c4c-da40-6f0c668a99ee"
      },
      "source": [
        "answer_circuit.draw(\"mpl\")"
      ],
      "execution_count": null,
      "outputs": [
        {
          "output_type": "execute_result",
          "data": {
            "image/png": "[encoded data removed]",
            "text/plain": [
              "<Figure size 598.479x325.08 with 1 Axes>"
            ]
          },
          "metadata": {
            "tags": []
          },
          "execution_count": 338
        }
      ]
    },
    {
      "cell_type": "markdown",
      "metadata": {
        "id": "OpqZdxS2yyfI"
      },
      "source": [
        "Answer nonce."
      ]
    },
    {
      "cell_type": "code",
      "metadata": {
        "colab": {
          "base_uri": "https://localhost:8080/",
          "height": 35
        },
        "id": "7psKE7Z7BeFi",
        "outputId": "9dee0c9f-39a9-41c0-ba6f-c6249a710b6c"
      },
      "source": [
        "quantum_nonce = \"\"\n",
        "for i in nonce_circuit.data:\n",
        "  quantum_nonce = i[0].name.upper() + quantum_nonce\n",
        "quantum_nonce"
      ],
      "execution_count": null,
      "outputs": [
        {
          "output_type": "execute_result",
          "data": {
            "application/vnd.google.colaboratory.intrinsic+json": {
              "type": "string"
            },
            "text/plain": [
              "'XHZX'"
            ]
          },
          "metadata": {
            "tags": []
          },
          "execution_count": 339
        }
      ]
    },
    {
      "cell_type": "markdown",
      "metadata": {
        "id": "jgSuAz-sy4gC"
      },
      "source": [
        "Answer Hash."
      ]
    },
    {
      "cell_type": "code",
      "metadata": {
        "colab": {
          "base_uri": "https://localhost:8080/",
          "height": 35
        },
        "id": "2uyQEQlJJ-DE",
        "outputId": "2fe467cf-e304-48f4-d1ed-74191f801e62"
      },
      "source": [
        "current_hash = bin(int(cal_hash(outputstate),2))\n",
        "\n",
        "def bin_correction(hash):\n",
        "  if len(str(hash)) < 2 + num_qubits:\n",
        "    hash = \"0b\" + \"0\"*(2 + num_qubits - len(str(hash))) + str(hash)[2:]\n",
        "  return hash\n",
        "\n",
        "current_hash = bin_correction(current_hash)\n",
        "current_hash"
      ],
      "execution_count": null,
      "outputs": [
        {
          "output_type": "execute_result",
          "data": {
            "application/vnd.google.colaboratory.intrinsic+json": {
              "type": "string"
            },
            "text/plain": [
              "'0b0001'"
            ]
          },
          "metadata": {
            "tags": []
          },
          "execution_count": 340
        }
      ]
    },
    {
      "cell_type": "code",
      "metadata": {
        "colab": {
          "base_uri": "https://localhost:8080/"
        },
        "id": "5qTwPBnWLxaN",
        "outputId": "5707a951-10be-4e5b-8d68-0fc864285645"
      },
      "source": [
        "full_header = current_hash + quantum_nonce \n",
        "print(full_header)"
      ],
      "execution_count": null,
      "outputs": [
        {
          "output_type": "stream",
          "text": [
            "0b0001XHZX\n"
          ],
          "name": "stdout"
        }
      ]
    },
    {
      "cell_type": "code",
      "metadata": {
        "colab": {
          "base_uri": "https://localhost:8080/"
        },
        "id": "JnBelfL4NXOj",
        "outputId": "caa2170a-2111-4470-a1d9-c83b463d9e91"
      },
      "source": [
        "target_hash_bin = bin_correction(target_hash_bin)\n",
        "previous_header = target_hash_bin + previous_hash\n",
        "print(previous_header)"
      ],
      "execution_count": null,
      "outputs": [
        {
          "output_type": "stream",
          "text": [
            "0b0010XHZH\n"
          ],
          "name": "stdout"
        }
      ]
    },
    {
      "cell_type": "markdown",
      "metadata": {
        "id": "bDJNHX3Xy8sQ"
      },
      "source": [
        "Block chain."
      ]
    },
    {
      "cell_type": "code",
      "metadata": {
        "colab": {
          "base_uri": "https://localhost:8080/"
        },
        "id": "-XUfD5RCPDIm",
        "outputId": "1555eca4-8332-4d7f-b959-e985c424233d"
      },
      "source": [
        "print(previous_header, \" -> \", full_header)"
      ],
      "execution_count": null,
      "outputs": [
        {
          "output_type": "stream",
          "text": [
            "0b0010XHZH  ->  0b0001XHZX\n"
          ],
          "name": "stdout"
        }
      ]
    }
  ]
}